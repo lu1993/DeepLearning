{
  "nbformat": 4,
  "nbformat_minor": 0,
  "metadata": {
    "kernelspec": {
      "name": "python2",
      "display_name": "Python 2"
    },
    "language_info": {
      "codemirror_mode": {
        "name": "ipython",
        "version": 2
      },
      "file_extension": ".py",
      "mimetype": "text/x-python",
      "name": "python",
      "nbconvert_exporter": "python",
      "pygments_lexer": "ipython2",
      "version": "2.7.14"
    },
    "colab": {
      "name": "Build a Stock Prediction Model using LSTM.ipynb",
      "provenance": [],
      "collapsed_sections": [],
      "toc_visible": true,
      "include_colab_link": true
    },
    "accelerator": "GPU"
  },
  "cells": [
    {
      "cell_type": "markdown",
      "metadata": {
        "id": "view-in-github",
        "colab_type": "text"
      },
      "source": [
        "<a href=\"https://colab.research.google.com/github/lu1993/DeepLearning/blob/master/Build_a_Stock_Prediction_Model_using_LSTM.ipynb\" target=\"_parent\"><img src=\"https://colab.research.google.com/assets/colab-badge.svg\" alt=\"Open In Colab\"/></a>"
      ]
    },
    {
      "cell_type": "markdown",
      "metadata": {
        "id": "vGbT1dgk2h0D",
        "colab_type": "text"
      },
      "source": [
        "# Stock Prediction RNN \n",
        "\n",
        "In this project, I perform a time series prediction using a Recurrent Neural Network regressor. For this example, I will predict Apple's stock price 7 days in advance.\n",
        "\n",
        "The particular network architecture I will employ for my RNN is a  [Long Term Short Memory (LTSM)](https://en.wikipedia.org/wiki/Long_short-term_memory), which helps significantly avoid technical problems with optimization of RNNs."
      ]
    },
    {
      "cell_type": "markdown",
      "metadata": {
        "id": "vwPba0Jg2bSX",
        "colab_type": "text"
      },
      "source": [
        "# Pytorch LSTM Stock Predictor\n",
        "\n",
        "This is a Pytorch version of the original Keras LSTM Stock Predictor provided by [Super DataScience](https://www.superdatascience.com/deep-learning/), and also available elsewhere in this repo as a notebook."
      ]
    },
    {
      "cell_type": "markdown",
      "metadata": {
        "id": "boG82OJt2n4g",
        "colab_type": "text"
      },
      "source": [
        "## Step 1: Loading the data\n",
        "\n",
        "First let's load in our time series - a history of around 140 days of Apple's stock price. Then we need to perform a number of pre-processing steps to prepare it for use with an RNN model.  First off, it is good practice to normalize time series - by normalizing its range.  This helps us avoid serious numerical issues associated how common activation functions (like tanh) transform very large (positive or negative) numbers, as well as helping us to avoid related issues when computing derivatives.\n",
        "\n",
        "Here we normalize the series to lie in the range [0,1] [using this scikit function](http://scikit-learn.org/stable/modules/generated/sklearn.preprocessing.MinMaxScaler.html)."
      ]
    },
    {
      "cell_type": "code",
      "metadata": {
        "id": "6k-jrLoP20Fm",
        "colab_type": "code",
        "outputId": "1b6eae80-d261-4d9a-93f9-7e71b511fc18",
        "colab": {
          "base_uri": "https://localhost:8080/",
          "height": 204
        }
      },
      "source": [
        "# download the data\n",
        "!wget https://raw.githubusercontent.com/tonylaioffer/stock-prediction-lstm-using-keras/master/data/sandp500/all_stocks_5yr.csv"
      ],
      "execution_count": 0,
      "outputs": [
        {
          "output_type": "stream",
          "text": [
            "--2020-04-06 18:44:07--  https://raw.githubusercontent.com/tonylaioffer/stock-prediction-lstm-using-keras/master/data/sandp500/all_stocks_5yr.csv\n",
            "Resolving raw.githubusercontent.com (raw.githubusercontent.com)... 151.101.0.133, 151.101.64.133, 151.101.128.133, ...\n",
            "Connecting to raw.githubusercontent.com (raw.githubusercontent.com)|151.101.0.133|:443... connected.\n",
            "HTTP request sent, awaiting response... 200 OK\n",
            "Length: 29580549 (28M) [text/plain]\n",
            "Saving to: ‘all_stocks_5yr.csv’\n",
            "\n",
            "all_stocks_5yr.csv  100%[===================>]  28.21M  20.0MB/s    in 1.4s    \n",
            "\n",
            "2020-04-06 18:44:11 (20.0 MB/s) - ‘all_stocks_5yr.csv’ saved [29580549/29580549]\n",
            "\n"
          ],
          "name": "stdout"
        }
      ]
    },
    {
      "cell_type": "code",
      "metadata": {
        "id": "3-8wHDYS28-m",
        "colab_type": "code",
        "outputId": "bcc45773-dd2c-4fbe-b0d0-cecb93b44f56",
        "colab": {
          "base_uri": "https://localhost:8080/",
          "height": 34
        }
      },
      "source": [
        "!ls ."
      ],
      "execution_count": 0,
      "outputs": [
        {
          "output_type": "stream",
          "text": [
            "all_stocks_5yr.csv  sample_data\n"
          ],
          "name": "stdout"
        }
      ]
    },
    {
      "cell_type": "code",
      "metadata": {
        "id": "lC_2yxKR2bSe",
        "colab_type": "code",
        "colab": {}
      },
      "source": [
        "import numpy as np\n",
        "import pandas as pd\n",
        "import matplotlib.pyplot as plt\n",
        "\n",
        "import torch.nn as nn\n",
        "import torch\n",
        "from torch.autograd import Variable\n",
        "from torch.utils.data import Dataset, DataLoader"
      ],
      "execution_count": 0,
      "outputs": []
    },
    {
      "cell_type": "code",
      "metadata": {
        "id": "BvFrixdV2bSw",
        "colab_type": "code",
        "colab": {}
      },
      "source": [
        "# Importing the training set\n",
        "dataset = data = pd.read_csv('./all_stocks_5yr.csv')\n",
        "dataset_cl = dataset[dataset['Name']=='SWKS'].close.values\n",
        "\n",
        "# dataset_train = pd.read_csv('Google_Stock_Price_Train.csv')\n",
        "# training_set = dataset_train.iloc[:, 1:2].values"
      ],
      "execution_count": 0,
      "outputs": []
    },
    {
      "cell_type": "code",
      "metadata": {
        "id": "XFvN25Yj3w9r",
        "colab_type": "code",
        "colab": {}
      },
      "source": [
        "# Feature Scaling\n",
        "from sklearn.preprocessing import MinMaxScaler\n",
        "\n",
        "sc = MinMaxScaler(feature_range = (0, 1))\n",
        "\n",
        "# scale the data\n",
        "dataset_cl = dataset_cl.reshape(dataset_cl.shape[0], 1)\n",
        "dataset_cl = sc.fit_transform(dataset_cl)"
      ],
      "execution_count": 0,
      "outputs": []
    },
    {
      "cell_type": "markdown",
      "metadata": {
        "id": "UURKEshg3g0G",
        "colab_type": "text"
      },
      "source": [
        "## Step 2:  Cutting our time series into sequences\n",
        "\n",
        "Remember, our time series is a sequence of numbers that we can represent in general mathematically as \n",
        "\n",
        "$$s_{0},s_{1},s_{2},...,s_{P}$$\n",
        "\n",
        "where $s_{p}$ is the numerical value of the time series at time period $p$ and where $P$ is the total length of the series.  In order to apply our RNN we treat the time series prediction problem as a regression problem, and so need to use a sliding window to construct a set of associated input/output pairs to regress on.  This process is animated in the gif below.\n",
        "\n",
        "<img src=\"https://github.com/tonylaioffer/stock-prediction-lstm-using-keras/raw/master/images/timeseries_windowing_training.gif\" width=600 height=288/>\n",
        "\n",
        "For example - using a window of size T = 5 (as illustrated in the gif above) we produce a set of input/output pairs like the one shown in the table below\n",
        "\n",
        "$$\\begin{array}{c|c}\n",
        "\\text{Input} & \\text{Output}\\\\\n",
        "\\hline \\color{CornflowerBlue} {\\langle s_{1},s_{2},s_{3},s_{4},s_{5}\\rangle} & \\color{Goldenrod}{ s_{6}} \\\\\n",
        "\\ \\color{CornflowerBlue} {\\langle s_{2},s_{3},s_{4},s_{5},s_{6} \\rangle } & \\color{Goldenrod} {s_{7} } \\\\\n",
        "\\color{CornflowerBlue}  {\\vdots} & \\color{Goldenrod} {\\vdots}\\\\\n",
        "\\color{CornflowerBlue} { \\langle s_{P-5},s_{P-4},s_{P-3},s_{P-2},s_{P-1} \\rangle } & \\color{Goldenrod} {s_{P}}\n",
        "\\end{array}$$\n",
        "\n",
        "Notice here that each input is a sequence (or vector) of length 4 (and in general has length equal to the window size T) while each corresponding output is a scalar value.  Notice also how given a time series of length P and window size T = 5 as shown above, we created P - 5  input/output pairs.  More generally, for a window size T we create P - T such pairs.\n",
        "\n",
        "Now let's window the input time series as described above!  "
      ]
    },
    {
      "cell_type": "code",
      "metadata": {
        "id": "pvBLqRvm4L6k",
        "colab_type": "code",
        "colab": {}
      },
      "source": [
        "#Create a function to process the data into 7 day look back slices\n",
        "def processData(data, lb):\n",
        "    X, Y = [], []\n",
        "    for i in range(len(data) - lb - 1):\n",
        "        X.append(data[i: (i + lb), 0])\n",
        "        Y.append(data[(i + lb), 0])\n",
        "    return np.array(X), np.array(Y)\n",
        "X, y = processData(dataset_cl, 7)\n"
      ],
      "execution_count": 0,
      "outputs": []
    },
    {
      "cell_type": "markdown",
      "metadata": {
        "id": "yHsQGQ_V42G0",
        "colab_type": "text"
      },
      "source": [
        "## Step 3: Split training and testing sets\n",
        "\n",
        "In order to perform proper testing on our dataset we will lop off the last 1/3 of it for validation (or testing).  \n",
        "\n",
        "Note how here we are **not** splitting the dataset *randomly* as one typically would do when validating a regression model.  This is because our input/output pairs *are related temporally*.   We don't want to validate our model by training on a random subset of the series and then testing on another random subset, as this simulates the scenario that we receive new points *within the timeframe of our training set*.  \n",
        "\n",
        "We want to train on one solid chunk of the series (in our case, the first full 2/3 of it), and validate on a later chunk (the last 1/3) as this simulates how we would predict *future* values of a time series."
      ]
    },
    {
      "cell_type": "code",
      "metadata": {
        "id": "syFXDlpn45xA",
        "colab_type": "code",
        "outputId": "412870bd-6824-4af2-d547-60504744a9ab",
        "colab": {
          "base_uri": "https://localhost:8080/",
          "height": 85
        }
      },
      "source": [
        "X_train, X_test = X[:int(X.shape[0]*0.80)],X[int(X.shape[0]*0.80):]\n",
        "y_train, y_test = y[:int(y.shape[0]*0.80)],y[int(y.shape[0]*0.80):]\n",
        "print(X_train.shape[0])\n",
        "print(X_test.shape[0])\n",
        "print(y_train.shape[0])\n",
        "print(y_test.shape[0])\n",
        "\n",
        "# reshaping\n",
        "X_train = np.reshape(X_train, (X_train.shape[0], 1, X_train.shape[1]))\n",
        "X_test = np.reshape(X_test, (X_test.shape[0], 1, X_test.shape[1]))"
      ],
      "execution_count": 0,
      "outputs": [
        {
          "output_type": "stream",
          "text": [
            "1000\n",
            "251\n",
            "1000\n",
            "251\n"
          ],
          "name": "stdout"
        }
      ]
    },
    {
      "cell_type": "code",
      "metadata": {
        "id": "oPfVnOcm2bTF",
        "colab_type": "code",
        "colab": {}
      },
      "source": [
        "# Reshaping\n",
        "# X_train = np.reshape(X_train, (X_train.shape[0], 1, X_train.shape[1]))"
      ],
      "execution_count": 0,
      "outputs": []
    },
    {
      "cell_type": "markdown",
      "metadata": {
        "id": "GMXggue15R41",
        "colab_type": "text"
      },
      "source": [
        "## Step 4:  Build and run an RNN regression model\n",
        "\n",
        "Having created input/output pairs out of our time series and cut this into training/testing sets, we can now begin setting up our RNN.  We use Keras to quickly build a two hidden layer RNN of the following specifications\n",
        "\n",
        "- layer 1 uses an LSTM module with 5 hidden units (note here the input_shape = (window_size,1))\n",
        "- layer 2 uses a fully connected module with one unit\n",
        "- the 'mean_squared_error' loss should be used"
      ]
    },
    {
      "cell_type": "code",
      "metadata": {
        "id": "HNWryPPg2bTM",
        "colab_type": "code",
        "colab": {}
      },
      "source": [
        "class RNN(nn.Module):\n",
        "    def __init__(self, i_size, h_size, n_layers, o_size, dropout=0.1, bidirectional=True):\n",
        "        super(RNN, self).__init__()\n",
        "        self.num_directions = bidirectional+1\n",
        "        self.rnn = nn.LSTM(\n",
        "            input_size=i_size,\n",
        "            hidden_size=h_size,\n",
        "            num_layers=n_layers,\n",
        "            dropout=dropout,\n",
        "            bidirectional=bidirectional\n",
        "        )\n",
        "        self.out = nn.Linear(h_size, o_size)\n",
        "\n",
        "    def forward(self, x, h_state):\n",
        "        r_out, hidden_state = self.rnn(x, h_state)\n",
        "        \n",
        "        hidden_size = hidden_state[-1].size(-1)\n",
        "        r_out = r_out.view(-1,self.num_directions, hidden_size)\n",
        "        outs = self.out(r_out)\n",
        "        \n",
        "        return outs, hidden_state"
      ],
      "execution_count": 0,
      "outputs": []
    },
    {
      "cell_type": "code",
      "metadata": {
        "id": "SwwPpVsK2bTQ",
        "colab_type": "code",
        "colab": {}
      },
      "source": [
        "# Globals\n",
        "\n",
        "INPUT_SIZE = 7\n",
        "HIDDEN_SIZE = 64\n",
        "NUM_LAYERS = 3\n",
        "OUTPUT_SIZE = 1\n",
        "BATCH_SIZE = 128\n",
        "# Hyper parameters\n",
        "\n",
        "learning_rate = 0.001\n",
        "num_epochs = 300\n",
        "\n",
        "rnn = RNN(INPUT_SIZE, HIDDEN_SIZE, NUM_LAYERS, OUTPUT_SIZE,bidirectional=False)\n",
        "rnn.cuda()\n",
        "\n",
        "optimiser = torch.optim.Adam(rnn.parameters(), lr=learning_rate)\n",
        "criterion = nn.MSELoss()\n",
        "\n",
        "hidden_state = None"
      ],
      "execution_count": 0,
      "outputs": []
    },
    {
      "cell_type": "code",
      "metadata": {
        "id": "BiQaghDCtNdg",
        "colab_type": "code",
        "outputId": "ba7d3296-6c14-417e-f30a-344be055a0c0",
        "colab": {
          "base_uri": "https://localhost:8080/",
          "height": 85
        }
      },
      "source": [
        "rnn"
      ],
      "execution_count": 0,
      "outputs": [
        {
          "output_type": "execute_result",
          "data": {
            "text/plain": [
              "RNN(\n",
              "  (rnn): LSTM(7, 64, num_layers=3, dropout=0.1)\n",
              "  (out): Linear(in_features=64, out_features=1, bias=True)\n",
              ")"
            ]
          },
          "metadata": {
            "tags": []
          },
          "execution_count": 16
        }
      ]
    },
    {
      "cell_type": "code",
      "metadata": {
        "id": "olY5dc_sQ345",
        "colab_type": "code",
        "outputId": "b184b2af-2592-4bec-b16f-e96f17119ed4",
        "colab": {
          "base_uri": "https://localhost:8080/",
          "height": 54
        }
      },
      "source": [
        "\"\"\"\n",
        "class StockDataset(Dataset):\n",
        "    \n",
        "    def __init__(self, X_dataset, Y_dataset):\n",
        "        \n",
        "        self.X_dataset = torch.from_numpy(X_dataset)\n",
        "        self.Y_dataset = torch.from_numpy(Y_dataset)\n",
        "        \n",
        "    def __len__(self):\n",
        "        return np.shape(self.Y_dataset)[0]\n",
        "\n",
        "    def __getitem__(self, idx):\n",
        "        \n",
        "        sample = {'Sequence': self.X_dataset[:,idx,:], \"Target\": self.Y_dataset[idx]}\n",
        "      \n",
        "\n",
        "        return sample\n",
        "\"\"\""
      ],
      "execution_count": 0,
      "outputs": [
        {
          "output_type": "execute_result",
          "data": {
            "text/plain": [
              "'\\nclass StockDataset(Dataset):\\n    \\n    def __init__(self, X_dataset, Y_dataset):\\n        \\n        self.X_dataset = torch.from_numpy(X_dataset)\\n        self.Y_dataset = torch.from_numpy(Y_dataset)\\n        \\n    def __len__(self):\\n        return np.shape(self.Y_dataset)[0]\\n\\n    def __getitem__(self, idx):\\n        \\n        sample = {\\'Sequence\\': self.X_dataset[:,idx,:], \"Target\": self.Y_dataset[idx]}\\n      \\n\\n        return sample\\n'"
            ]
          },
          "metadata": {
            "tags": []
          },
          "execution_count": 17
        }
      ]
    },
    {
      "cell_type": "code",
      "metadata": {
        "id": "de3JU38uRp-S",
        "colab_type": "code",
        "colab": {}
      },
      "source": [
        "# Train_ds=StockDataset(X_train, y_train)"
      ],
      "execution_count": 0,
      "outputs": []
    },
    {
      "cell_type": "code",
      "metadata": {
        "id": "QlRhF5JP2bTX",
        "colab_type": "code",
        "outputId": "60fb7bbf-8873-459a-c4d9-8745825878ec",
        "colab": {
          "base_uri": "https://localhost:8080/",
          "height": 1000
        }
      },
      "source": [
        "history = []\n",
        "X_test_cuda = torch.tensor(X_test).float().cuda()\n",
        "y_test_cuda = torch.tensor(y_test).float().cuda()\n",
        "\n",
        "# we use all the data in one batch\n",
        "inputs_cuda = torch.tensor(X_train).float().cuda()\n",
        "labels_cuda = torch.tensor(y_train).float().cuda()\n",
        "\n",
        "for epoch in range(num_epochs):\n",
        "    rnn.train()\n",
        "    output, hidden_state = rnn(inputs_cuda, hidden_state) \n",
        "    # print(output.size())\n",
        "\n",
        "    loss = criterion(output[:,0,:].view(-1), labels_cuda)\n",
        "    optimiser.zero_grad()\n",
        "    loss.backward(retain_graph=True)                     # back propagation\n",
        "    optimiser.step()                                     # update the parameters\n",
        "    \n",
        "    if epoch % 20 == 0:\n",
        "        rnn.eval()\n",
        "        test_output, _ = rnn(X_test_cuda, hidden_state)\n",
        "        test_loss = criterion(test_output.view(-1), y_test_cuda)\n",
        "        print('epoch {}, loss {}, eval loss {}'.format(epoch, loss.item(), test_loss.item()))\n",
        "    else:\n",
        "        print('epoch {}, loss {}'.format(epoch, loss.item()))\n",
        "    history.append(loss.item())"
      ],
      "execution_count": 0,
      "outputs": [
        {
          "output_type": "stream",
          "text": [
            "epoch 0, loss 0.183845087886, eval loss 0.547857940197\n",
            "epoch 1, loss 0.16167011857\n",
            "epoch 2, loss 0.141512736678\n",
            "epoch 3, loss 0.123155504465\n",
            "epoch 4, loss 0.106155261397\n",
            "epoch 5, loss 0.0901190340519\n",
            "epoch 6, loss 0.0753979161382\n",
            "epoch 7, loss 0.0637447088957\n",
            "epoch 8, loss 0.0560894086957\n",
            "epoch 9, loss 0.0551664456725\n",
            "epoch 10, loss 0.0618822798133\n",
            "epoch 11, loss 0.0668846741319\n",
            "epoch 12, loss 0.0646837204695\n",
            "epoch 13, loss 0.0584203861654\n",
            "epoch 14, loss 0.0510878637433\n",
            "epoch 15, loss 0.0463722497225\n",
            "epoch 16, loss 0.0432791225612\n",
            "epoch 17, loss 0.0420559644699\n",
            "epoch 18, loss 0.0401907227933\n",
            "epoch 19, loss 0.0381699465215\n",
            "epoch 20, loss 0.0349008888006, eval loss 0.0707357823849\n",
            "epoch 21, loss 0.0308173466474\n",
            "epoch 22, loss 0.0256049204618\n",
            "epoch 23, loss 0.0204169396311\n",
            "epoch 24, loss 0.0175045598298\n",
            "epoch 25, loss 0.0192158296704\n",
            "epoch 26, loss 0.0190761052072\n",
            "epoch 27, loss 0.0150293111801\n",
            "epoch 28, loss 0.01116173435\n",
            "epoch 29, loss 0.0105960210785\n",
            "epoch 30, loss 0.0117529798299\n",
            "epoch 31, loss 0.0119247511029\n",
            "epoch 32, loss 0.010547298938\n",
            "epoch 33, loss 0.00783408433199\n",
            "epoch 34, loss 0.00634149182588\n",
            "epoch 35, loss 0.00772006995976\n",
            "epoch 36, loss 0.00911351852119\n",
            "epoch 37, loss 0.00736636761576\n",
            "epoch 38, loss 0.00603348994628\n",
            "epoch 39, loss 0.00616155425087\n",
            "epoch 40, loss 0.00666098622605, eval loss 0.0040460457094\n",
            "epoch 41, loss 0.00649738358334\n",
            "epoch 42, loss 0.00599556369707\n",
            "epoch 43, loss 0.00518409255892\n",
            "epoch 44, loss 0.00474265543744\n",
            "epoch 45, loss 0.00513351056725\n",
            "epoch 46, loss 0.00558019988239\n",
            "epoch 47, loss 0.00525588914752\n",
            "epoch 48, loss 0.00442259572446\n",
            "epoch 49, loss 0.00449063628912\n",
            "epoch 50, loss 0.00445844558999\n",
            "epoch 51, loss 0.00489095039666\n",
            "epoch 52, loss 0.00466444669291\n",
            "epoch 53, loss 0.00446817884222\n",
            "epoch 54, loss 0.00416255090386\n",
            "epoch 55, loss 0.00410626735538\n",
            "epoch 56, loss 0.004197019618\n",
            "epoch 57, loss 0.00416609318927\n",
            "epoch 58, loss 0.00432434398681\n",
            "epoch 59, loss 0.00409884145483\n",
            "epoch 60, loss 0.00407671509311, eval loss 0.00688393600285\n",
            "epoch 61, loss 0.00410887273028\n",
            "epoch 62, loss 0.00413570459932\n",
            "epoch 63, loss 0.00413716351613\n",
            "epoch 64, loss 0.00385198323056\n",
            "epoch 65, loss 0.00385712808929\n",
            "epoch 66, loss 0.00378586049192\n",
            "epoch 67, loss 0.00374254770577\n",
            "epoch 68, loss 0.00406263396144\n",
            "epoch 69, loss 0.00392367737368\n",
            "epoch 70, loss 0.00393878528848\n",
            "epoch 71, loss 0.00375901232474\n",
            "epoch 72, loss 0.00355438771658\n",
            "epoch 73, loss 0.00390920089558\n",
            "epoch 74, loss 0.00382958282717\n",
            "epoch 75, loss 0.00354412244633\n",
            "epoch 76, loss 0.00349009875208\n",
            "epoch 77, loss 0.00327449035831\n",
            "epoch 78, loss 0.00344183761626\n",
            "epoch 79, loss 0.00354155153036\n",
            "epoch 80, loss 0.0034993418958, eval loss 0.00217775534838\n",
            "epoch 81, loss 0.00347306556068\n",
            "epoch 82, loss 0.00348856742494\n",
            "epoch 83, loss 0.00326601043344\n",
            "epoch 84, loss 0.00338855362497\n",
            "epoch 85, loss 0.00356519198976\n",
            "epoch 86, loss 0.00356726604514\n",
            "epoch 87, loss 0.0032385289669\n",
            "epoch 88, loss 0.0034049146343\n",
            "epoch 89, loss 0.0033535384573\n",
            "epoch 90, loss 0.00323050096631\n",
            "epoch 91, loss 0.00345636508428\n",
            "epoch 92, loss 0.00322352815419\n",
            "epoch 93, loss 0.00335617992096\n",
            "epoch 94, loss 0.00332304788753\n",
            "epoch 95, loss 0.00319960643537\n",
            "epoch 96, loss 0.0029891806189\n",
            "epoch 97, loss 0.00326558225788\n",
            "epoch 98, loss 0.00325780641288\n",
            "epoch 99, loss 0.00310766231269\n",
            "epoch 100, loss 0.00307195074856, eval loss 0.002058978891\n",
            "epoch 101, loss 0.00323011749424\n",
            "epoch 102, loss 0.00303504429758\n",
            "epoch 103, loss 0.00309530622326\n",
            "epoch 104, loss 0.00317198457196\n",
            "epoch 105, loss 0.00292721064761\n",
            "epoch 106, loss 0.00308863725513\n",
            "epoch 107, loss 0.00325871095993\n",
            "epoch 108, loss 0.0028750684578\n",
            "epoch 109, loss 0.00317555293441\n",
            "epoch 110, loss 0.00295845372602\n",
            "epoch 111, loss 0.00301228347234\n",
            "epoch 112, loss 0.00277194497176\n",
            "epoch 113, loss 0.00282056536525\n",
            "epoch 114, loss 0.00301596033387\n",
            "epoch 115, loss 0.00294077210128\n",
            "epoch 116, loss 0.00281440024264\n",
            "epoch 117, loss 0.00287818862125\n",
            "epoch 118, loss 0.00299907708541\n",
            "epoch 119, loss 0.00287783565\n",
            "epoch 120, loss 0.0029948039446, eval loss 0.00156303832773\n",
            "epoch 121, loss 0.00267720478587\n",
            "epoch 122, loss 0.00289988773875\n",
            "epoch 123, loss 0.00281736138277\n",
            "epoch 124, loss 0.00281038112007\n",
            "epoch 125, loss 0.00265444186516\n",
            "epoch 126, loss 0.00274400529452\n",
            "epoch 127, loss 0.00272139417939\n",
            "epoch 128, loss 0.0027603728231\n",
            "epoch 129, loss 0.0025884709321\n",
            "epoch 130, loss 0.0027609153185\n",
            "epoch 131, loss 0.00272113108076\n",
            "epoch 132, loss 0.00252530747093\n",
            "epoch 133, loss 0.00265850313008\n",
            "epoch 134, loss 0.00276744598523\n",
            "epoch 135, loss 0.00267731770873\n",
            "epoch 136, loss 0.00272683030926\n",
            "epoch 137, loss 0.00258304551244\n",
            "epoch 138, loss 0.00255611422472\n",
            "epoch 139, loss 0.00254838890396\n",
            "epoch 140, loss 0.00250099017285, eval loss 0.00129008782096\n",
            "epoch 141, loss 0.00263214018196\n",
            "epoch 142, loss 0.00254005123861\n",
            "epoch 143, loss 0.00286209653132\n",
            "epoch 144, loss 0.00259596179239\n",
            "epoch 145, loss 0.0024530836381\n",
            "epoch 146, loss 0.00250455969945\n",
            "epoch 147, loss 0.0023220970761\n",
            "epoch 148, loss 0.00251091620885\n",
            "epoch 149, loss 0.00253611360677\n",
            "epoch 150, loss 0.00247188331559\n",
            "epoch 151, loss 0.00241616438143\n",
            "epoch 152, loss 0.00228756619617\n",
            "epoch 153, loss 0.00242727436125\n",
            "epoch 154, loss 0.00240158266388\n",
            "epoch 155, loss 0.0025163970422\n",
            "epoch 156, loss 0.00224196352065\n",
            "epoch 157, loss 0.00245837192051\n",
            "epoch 158, loss 0.00241849757731\n",
            "epoch 159, loss 0.00236311019398\n",
            "epoch 160, loss 0.00239446386695, eval loss 0.00123228691518\n",
            "epoch 161, loss 0.00244430545717\n",
            "epoch 162, loss 0.00233748415485\n",
            "epoch 163, loss 0.00245074625127\n",
            "epoch 164, loss 0.0023547669407\n",
            "epoch 165, loss 0.00229417858645\n",
            "epoch 166, loss 0.00249868771061\n",
            "epoch 167, loss 0.00208049849607\n",
            "epoch 168, loss 0.00234778644517\n",
            "epoch 169, loss 0.00223277346231\n",
            "epoch 170, loss 0.00240174867213\n",
            "epoch 171, loss 0.00210597855039\n",
            "epoch 172, loss 0.00227757263929\n",
            "epoch 173, loss 0.00229521724395\n",
            "epoch 174, loss 0.00242209783755\n",
            "epoch 175, loss 0.00248731859028\n",
            "epoch 176, loss 0.00242495234124\n",
            "epoch 177, loss 0.00219468888827\n",
            "epoch 178, loss 0.00218979269266\n",
            "epoch 179, loss 0.00234357616864\n",
            "epoch 180, loss 0.00213434686884, eval loss 0.00143479462713\n",
            "epoch 181, loss 0.00227087363601\n",
            "epoch 182, loss 0.00218841410242\n",
            "epoch 183, loss 0.00227490486577\n",
            "epoch 184, loss 0.002205200959\n",
            "epoch 185, loss 0.00193745165598\n",
            "epoch 186, loss 0.00223119836301\n",
            "epoch 187, loss 0.00236542383209\n",
            "epoch 188, loss 0.00198918906972\n",
            "epoch 189, loss 0.00192805135157\n",
            "epoch 190, loss 0.00212640990503\n",
            "epoch 191, loss 0.00227847066708\n",
            "epoch 192, loss 0.00194608350284\n",
            "epoch 193, loss 0.00209007854573\n",
            "epoch 194, loss 0.00200910377316\n",
            "epoch 195, loss 0.00195463187993\n",
            "epoch 196, loss 0.00197692937218\n",
            "epoch 197, loss 0.00200713332742\n",
            "epoch 198, loss 0.0020876112394\n",
            "epoch 199, loss 0.0020178318955\n",
            "epoch 200, loss 0.0020510063041, eval loss 0.00116241991054\n",
            "epoch 201, loss 0.00199528294615\n",
            "epoch 202, loss 0.00189941958524\n",
            "epoch 203, loss 0.0018080562586\n",
            "epoch 204, loss 0.00191492610611\n",
            "epoch 205, loss 0.00187022553291\n",
            "epoch 206, loss 0.00202762940899\n",
            "epoch 207, loss 0.0021448279731\n",
            "epoch 208, loss 0.00205114786513\n",
            "epoch 209, loss 0.00196125754155\n",
            "epoch 210, loss 0.00190324673895\n",
            "epoch 211, loss 0.00207657529972\n",
            "epoch 212, loss 0.00204167258926\n",
            "epoch 213, loss 0.00201372988522\n",
            "epoch 214, loss 0.00196322542615\n",
            "epoch 215, loss 0.00207271706313\n",
            "epoch 216, loss 0.00187534885481\n",
            "epoch 217, loss 0.00193584954832\n",
            "epoch 218, loss 0.00187872652896\n",
            "epoch 219, loss 0.00190632999875\n",
            "epoch 220, loss 0.001954293577, eval loss 0.00104936352\n",
            "epoch 221, loss 0.00184591475409\n",
            "epoch 222, loss 0.00205474253744\n",
            "epoch 223, loss 0.0019106954569\n",
            "epoch 224, loss 0.00178650382441\n",
            "epoch 225, loss 0.00180726416875\n",
            "epoch 226, loss 0.00184750405606\n",
            "epoch 227, loss 0.00173353683203\n",
            "epoch 228, loss 0.00185795582365\n",
            "epoch 229, loss 0.00188898551278\n",
            "epoch 230, loss 0.0019302276196\n",
            "epoch 231, loss 0.00179752882104\n",
            "epoch 232, loss 0.00173503044061\n",
            "epoch 233, loss 0.00172098178882\n",
            "epoch 234, loss 0.00156645581592\n",
            "epoch 235, loss 0.00170354882721\n",
            "epoch 236, loss 0.00176741601899\n",
            "epoch 237, loss 0.00166379811708\n",
            "epoch 238, loss 0.00174287275877\n",
            "epoch 239, loss 0.00165210652631\n",
            "epoch 240, loss 0.00199973769486, eval loss 0.0011015717173\n",
            "epoch 241, loss 0.00167718552984\n",
            "epoch 242, loss 0.00188234157395\n",
            "epoch 243, loss 0.00175945740193\n",
            "epoch 244, loss 0.0017997714458\n",
            "epoch 245, loss 0.00165142212063\n",
            "epoch 246, loss 0.0017407364212\n",
            "epoch 247, loss 0.00170475349296\n",
            "epoch 248, loss 0.00162779074162\n",
            "epoch 249, loss 0.0016654181527\n",
            "epoch 250, loss 0.00178699602839\n",
            "epoch 251, loss 0.0015433372464\n",
            "epoch 252, loss 0.00178833841346\n",
            "epoch 253, loss 0.00167809124105\n",
            "epoch 254, loss 0.00165180885233\n",
            "epoch 255, loss 0.00149705156218\n",
            "epoch 256, loss 0.00184091867413\n",
            "epoch 257, loss 0.0015834432561\n",
            "epoch 258, loss 0.00151325005572\n",
            "epoch 259, loss 0.00162277801428\n",
            "epoch 260, loss 0.00158439413644, eval loss 0.00116414029617\n",
            "epoch 261, loss 0.00167871336453\n",
            "epoch 262, loss 0.00166653213091\n",
            "epoch 263, loss 0.00161441613454\n",
            "epoch 264, loss 0.00166246236768\n",
            "epoch 265, loss 0.00165941892192\n",
            "epoch 266, loss 0.00159736187197\n",
            "epoch 267, loss 0.00146459392272\n",
            "epoch 268, loss 0.0014026586432\n",
            "epoch 269, loss 0.00145662925206\n",
            "epoch 270, loss 0.0017062947154\n",
            "epoch 271, loss 0.00153674965259\n",
            "epoch 272, loss 0.00157736311667\n",
            "epoch 273, loss 0.00157394178677\n",
            "epoch 274, loss 0.00139502552338\n",
            "epoch 275, loss 0.00158986169845\n",
            "epoch 276, loss 0.0014684580965\n",
            "epoch 277, loss 0.00151622970589\n",
            "epoch 278, loss 0.00159960705787\n",
            "epoch 279, loss 0.00154190359171\n",
            "epoch 280, loss 0.0014920104295, eval loss 0.00101868342608\n",
            "epoch 281, loss 0.00158239493612\n",
            "epoch 282, loss 0.00161086360458\n",
            "epoch 283, loss 0.00172029167879\n",
            "epoch 284, loss 0.00155495433137\n",
            "epoch 285, loss 0.00161122716963\n",
            "epoch 286, loss 0.00139834731817\n",
            "epoch 287, loss 0.00155135116074\n",
            "epoch 288, loss 0.00155320030171\n",
            "epoch 289, loss 0.00141484721098\n",
            "epoch 290, loss 0.0015928815119\n",
            "epoch 291, loss 0.00144418852869\n",
            "epoch 292, loss 0.00153643451631\n",
            "epoch 293, loss 0.0014398957137\n",
            "epoch 294, loss 0.00141094147693\n",
            "epoch 295, loss 0.00147783523425\n",
            "epoch 296, loss 0.00137362489477\n",
            "epoch 297, loss 0.00132815318648\n",
            "epoch 298, loss 0.00155649578664\n",
            "epoch 299, loss 0.00140987813938\n"
          ],
          "name": "stdout"
        }
      ]
    },
    {
      "cell_type": "markdown",
      "metadata": {
        "id": "PY0wF6e46-JE",
        "colab_type": "text"
      },
      "source": [
        "## Step 5: Checking model performance\n",
        "\n",
        "With our model fit we can now make predictions on both our training and testing sets."
      ]
    },
    {
      "cell_type": "code",
      "metadata": {
        "id": "6dygBlig6_XD",
        "colab_type": "code",
        "outputId": "95576be6-175d-4d89-c624-f36f9e319a50",
        "colab": {
          "base_uri": "https://localhost:8080/",
          "height": 286
        }
      },
      "source": [
        "plt.plot(history)\n",
        "# dplt.plot(history.history['val_loss'])"
      ],
      "execution_count": 0,
      "outputs": [
        {
          "output_type": "execute_result",
          "data": {
            "text/plain": [
              "[<matplotlib.lines.Line2D at 0x7f57d01b9410>]"
            ]
          },
          "metadata": {
            "tags": []
          },
          "execution_count": 21
        },
        {
          "output_type": "display_data",
          "data": {
            "image/png": "[encoded data removed]",
            "text/plain": [
              "<Figure size 432x288 with 1 Axes>"
            ]
          },
          "metadata": {
            "tags": []
          }
        }
      ]
    },
    {
      "cell_type": "code",
      "metadata": {
        "id": "ScaBHhTv7Jih",
        "colab_type": "code",
        "outputId": "b1fc3848-be6c-463c-da36-63cfb548c38d",
        "colab": {
          "base_uri": "https://localhost:8080/",
          "height": 51
        }
      },
      "source": [
        "X_test[0]"
      ],
      "execution_count": 0,
      "outputs": [
        {
          "output_type": "execute_result",
          "data": {
            "text/plain": [
              "array([[0.75733001, 0.74433354, 0.74433354, 0.73778332, 0.74246205,\n",
              "        0.74069453, 0.74474943]])"
            ]
          },
          "metadata": {
            "tags": []
          },
          "execution_count": 22
        }
      ]
    },
    {
      "cell_type": "code",
      "metadata": {
        "id": "hyICDKXa7Vbe",
        "colab_type": "code",
        "colab": {}
      },
      "source": [
        "# X_train_X_test = np.concatenate((X_train, X_test),axis=0)\n",
        "# hidden_state = None\n",
        "rnn.eval()\n",
        "# test_inputs = torch.tensor(X_test).float().cuda()\n",
        "test_predict, _ = rnn(X_test_cuda, hidden_state)\n",
        "test_predict_cpu = test_predict.cpu().detach().numpy()"
      ],
      "execution_count": 0,
      "outputs": []
    },
    {
      "cell_type": "code",
      "metadata": {
        "id": "FwD_e6VO-cIa",
        "colab_type": "code",
        "outputId": "410ae240-bf5d-4a70-b294-c3920dc2b4c9",
        "colab": {
          "base_uri": "https://localhost:8080/",
          "height": 34
        }
      },
      "source": [
        "test_predict_cpu.shape"
      ],
      "execution_count": 0,
      "outputs": [
        {
          "output_type": "execute_result",
          "data": {
            "text/plain": [
              "(251, 1, 1)"
            ]
          },
          "metadata": {
            "tags": []
          },
          "execution_count": 26
        }
      ]
    },
    {
      "cell_type": "code",
      "metadata": {
        "id": "c-__h1sU7kW6",
        "colab_type": "code",
        "outputId": "c7f00ae0-6c75-4a54-e4da-f341acf8fee7",
        "colab": {
          "base_uri": "https://localhost:8080/",
          "height": 286
        }
      },
      "source": [
        "plt.plot(sc.inverse_transform(y_test.reshape(-1,1)))\n",
        "plt.plot(sc.inverse_transform(test_predict_cpu.reshape(-1,1)))"
      ],
      "execution_count": 0,
      "outputs": [
        {
          "output_type": "execute_result",
          "data": {
            "text/plain": [
              "[<matplotlib.lines.Line2D at 0x7f57d019e290>]"
            ]
          },
          "metadata": {
            "tags": []
          },
          "execution_count": 27
        },
        {
          "output_type": "display_data",
          "data": {
            "image/png": "[encoded data removed]",
            "text/plain": [
              "<Figure size 432x288 with 1 Axes>"
            ]
          },
          "metadata": {
            "tags": []
          }
        }
      ]
    },
    {
      "cell_type": "code",
      "metadata": {
        "id": "LnMGQ5Sa8vMs",
        "colab_type": "code",
        "outputId": "cef61815-6323-4663-9863-1f7ba427db4d",
        "colab": {
          "base_uri": "https://localhost:8080/",
          "height": 283
        }
      },
      "source": [
        "# plot original data\n",
        "plt.plot(sc.inverse_transform(y.reshape(-1,1)), color='k')\n",
        "\n",
        "# train_inputs = torch.tensor(X_train).float().cuda()\n",
        "train_pred, hidden_state = rnn(inputs_cuda, None)\n",
        "train_pred_cpu = train_pred.cpu().detach().numpy()\n",
        "\n",
        "# use hidden state from previous training data\n",
        "test_predict, _ = rnn(X_test_cuda, hidden_state)\n",
        "test_predict_cpu = test_predict.cpu().detach().numpy()\n",
        "\n",
        "# plt.plot(scl.inverse_transform(y_test.reshape(-1,1)))\n",
        "split_pt = int(X.shape[0] * 0.80) + 7 # window_size\n",
        "plt.plot(np.arange(7, split_pt, 1), sc.inverse_transform(train_pred_cpu.reshape(-1,1)), color='b')\n",
        "plt.plot(np.arange(split_pt, split_pt + len(test_predict_cpu), 1), sc.inverse_transform(test_predict_cpu.reshape(-1,1)), color='r')\n",
        "\n",
        "# pretty up graph\n",
        "plt.xlabel('day')\n",
        "plt.ylabel('price of MMM stock')\n",
        "plt.legend(['original series','training fit','testing fit'], loc='center left', bbox_to_anchor=(1, 0.5))\n",
        "plt.show()\n"
      ],
      "execution_count": 0,
      "outputs": [
        {
          "output_type": "display_data",
          "data": {
            "image/png": "[encoded data removed]",
            "text/plain": [
              "<Figure size 432x288 with 1 Axes>"
            ]
          },
          "metadata": {
            "tags": []
          }
        }
      ]
    },
    {
      "cell_type": "code",
      "metadata": {
        "id": "u4J-TrjE2bTy",
        "colab_type": "code",
        "colab": {}
      },
      "source": [
        ""
      ],
      "execution_count": 0,
      "outputs": []
    }
  ]
}