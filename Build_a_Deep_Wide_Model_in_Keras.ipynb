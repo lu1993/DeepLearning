{
  "nbformat": 4,
  "nbformat_minor": 0,
  "metadata": {
    "colab": {
      "name": "Build a Deep Wide Model in Keras.ipynb",
      "provenance": [],
      "include_colab_link": true
    },
    "kernelspec": {
      "display_name": "Python 3",
      "language": "python",
      "name": "python3"
    },
    "language_info": {
      "codemirror_mode": {
        "name": "ipython",
        "version": 3
      },
      "file_extension": ".py",
      "mimetype": "text/x-python",
      "name": "python",
      "nbconvert_exporter": "python",
      "pygments_lexer": "ipython3",
      "version": "3.6.1"
    }
  },
  "cells": [
    {
      "cell_type": "markdown",
      "metadata": {
        "id": "view-in-github",
        "colab_type": "text"
      },
      "source": [
        "<a href=\"https://colab.research.google.com/github/lu1993/DeepLearning/blob/master/Build_a_Deep_Wide_Model_in_Keras.ipynb\" target=\"_parent\"><img src=\"https://colab.research.google.com/assets/colab-badge.svg\" alt=\"Open In Colab\"/></a>"
      ]
    },
    {
      "cell_type": "code",
      "metadata": {
        "colab_type": "code",
        "id": "frTMl3sShA3P",
        "colab": {}
      },
      "source": [
        "from __future__ import absolute_import\n",
        "from __future__ import division\n",
        "from __future__ import print_function"
      ],
      "execution_count": 0,
      "outputs": []
    },
    {
      "cell_type": "code",
      "metadata": {
        "id": "_ZmCIXI89OJe",
        "colab_type": "code",
        "outputId": "2041f8b0-ad33-41be-bfd9-3f51f60e98a8",
        "colab": {
          "base_uri": "https://localhost:8080/",
          "height": 84
        }
      },
      "source": [
        "# Install the latest version of TensorFlow\n",
        "!pip install -q -U tensorflow==1.7.0"
      ],
      "execution_count": 0,
      "outputs": [
        {
          "output_type": "stream",
          "text": [
            "\u001b[K     |████████████████████████████████| 48.0MB 90kB/s \n",
            "\u001b[K     |████████████████████████████████| 3.1MB 57.8MB/s \n",
            "\u001b[K     |████████████████████████████████| 890kB 49.6MB/s \n",
            "\u001b[?25h  Building wheel for html5lib (setup.py) ... \u001b[?25l\u001b[?25hdone\n"
          ],
          "name": "stdout"
        }
      ]
    },
    {
      "cell_type": "code",
      "metadata": {
        "colab_type": "code",
        "id": "783h64rGhA3T",
        "outputId": "266c56b1-0706-48ab-f2ad-b22e1513028a",
        "colab": {
          "base_uri": "https://localhost:8080/",
          "height": 301
        }
      },
      "source": [
        "import itertools\n",
        "import os\n",
        "import math\n",
        "import numpy as np\n",
        "import pandas as pd\n",
        "import tensorflow as tf\n",
        "\n",
        "from sklearn.preprocessing import LabelEncoder\n",
        "from tensorflow import keras\n",
        "layers = keras.layers\n",
        "\n",
        "# This code was tested with TensorFlow v1.7\n",
        "print(\"You have TensorFlow version\", tf.__version__)"
      ],
      "execution_count": 0,
      "outputs": [
        {
          "output_type": "stream",
          "text": [
            "/usr/local/lib/python3.6/dist-packages/tensorflow/python/framework/dtypes.py:517: FutureWarning: Passing (type, 1) or '1type' as a synonym of type is deprecated; in a future version of numpy, it will be understood as (type, (1,)) / '(1,)type'.\n",
            "  _np_qint8 = np.dtype([(\"qint8\", np.int8, 1)])\n",
            "/usr/local/lib/python3.6/dist-packages/tensorflow/python/framework/dtypes.py:518: FutureWarning: Passing (type, 1) or '1type' as a synonym of type is deprecated; in a future version of numpy, it will be understood as (type, (1,)) / '(1,)type'.\n",
            "  _np_quint8 = np.dtype([(\"quint8\", np.uint8, 1)])\n",
            "/usr/local/lib/python3.6/dist-packages/tensorflow/python/framework/dtypes.py:519: FutureWarning: Passing (type, 1) or '1type' as a synonym of type is deprecated; in a future version of numpy, it will be understood as (type, (1,)) / '(1,)type'.\n",
            "  _np_qint16 = np.dtype([(\"qint16\", np.int16, 1)])\n",
            "/usr/local/lib/python3.6/dist-packages/tensorflow/python/framework/dtypes.py:520: FutureWarning: Passing (type, 1) or '1type' as a synonym of type is deprecated; in a future version of numpy, it will be understood as (type, (1,)) / '(1,)type'.\n",
            "  _np_quint16 = np.dtype([(\"quint16\", np.uint16, 1)])\n",
            "/usr/local/lib/python3.6/dist-packages/tensorflow/python/framework/dtypes.py:521: FutureWarning: Passing (type, 1) or '1type' as a synonym of type is deprecated; in a future version of numpy, it will be understood as (type, (1,)) / '(1,)type'.\n",
            "  _np_qint32 = np.dtype([(\"qint32\", np.int32, 1)])\n",
            "/usr/local/lib/python3.6/dist-packages/tensorflow/python/framework/dtypes.py:526: FutureWarning: Passing (type, 1) or '1type' as a synonym of type is deprecated; in a future version of numpy, it will be understood as (type, (1,)) / '(1,)type'.\n",
            "  np_resource = np.dtype([(\"resource\", np.ubyte, 1)])\n"
          ],
          "name": "stderr"
        },
        {
          "output_type": "display_data",
          "data": {
            "text/html": [
              "<p style=\"color: red;\">\n",
              "The default version of TensorFlow in Colab will switch to TensorFlow 2.x on the 27th of March, 2020.<br>\n",
              "We recommend you <a href=\"https://www.tensorflow.org/guide/migrate\" target=\"_blank\">upgrade</a> now\n",
              "or ensure your notebook will continue to use TensorFlow 1.x via the <code>%tensorflow_version 1.x</code> magic:\n",
              "<a href=\"https://colab.research.google.com/notebooks/tensorflow_version.ipynb\" target=\"_blank\">more info</a>.</p>\n"
            ],
            "text/plain": [
              "<IPython.core.display.HTML object>"
            ]
          },
          "metadata": {
            "tags": []
          }
        },
        {
          "output_type": "stream",
          "text": [
            "You have TensorFlow version 1.7.0\n"
          ],
          "name": "stdout"
        }
      ]
    },
    {
      "cell_type": "code",
      "metadata": {
        "id": "crJImS0M9OJl",
        "colab_type": "code",
        "outputId": "79bc678e-e2b4-4d4d-de29-4b3ab0deb635",
        "colab": {
          "base_uri": "https://localhost:8080/",
          "height": 50
        }
      },
      "source": [
        "# Get the data: original source is here: https://www.kaggle.com/zynicide/wine-reviews/data\n",
        "URL = \"https://storage.googleapis.com/sara-cloud-ml/wine_data.csv\"\n",
        "path = tf.keras.utils.get_file(URL.split('/')[-1], URL)\n"
      ],
      "execution_count": 0,
      "outputs": [
        {
          "output_type": "stream",
          "text": [
            "Downloading data from https://storage.googleapis.com/sara-cloud-ml/wine_data.csv\n",
            "49790976/49783940 [==============================] - 0s 0us/step\n"
          ],
          "name": "stdout"
        }
      ]
    },
    {
      "cell_type": "code",
      "metadata": {
        "colab_type": "code",
        "id": "c7te21f7hA3V",
        "colab": {}
      },
      "source": [
        "# Convert the data to a Pandas data frame\n",
        "data = pd.read_csv(path)"
      ],
      "execution_count": 0,
      "outputs": []
    },
    {
      "cell_type": "code",
      "metadata": {
        "colab_type": "code",
        "id": "chAbp3ryhA3X",
        "outputId": "835dc5b0-df15-4e3f-b281-a942d4fb5e05",
        "colab": {
          "base_uri": "https://localhost:8080/",
          "height": 296
        }
      },
      "source": [
        "# Shuffle the data\n",
        "data = data.sample(frac=1)\n",
        "\n",
        "# Print the first 5 rows\n",
        "data.head()"
      ],
      "execution_count": 0,
      "outputs": [
        {
          "output_type": "execute_result",
          "data": {
            "text/html": [
              "<div>\n",
              "<style scoped>\n",
              "    .dataframe tbody tr th:only-of-type {\n",
              "        vertical-align: middle;\n",
              "    }\n",
              "\n",
              "    .dataframe tbody tr th {\n",
              "        vertical-align: top;\n",
              "    }\n",
              "\n",
              "    .dataframe thead th {\n",
              "        text-align: right;\n",
              "    }\n",
              "</style>\n",
              "<table border=\"1\" class=\"dataframe\">\n",
              "  <thead>\n",
              "    <tr style=\"text-align: right;\">\n",
              "      <th></th>\n",
              "      <th>Unnamed: 0</th>\n",
              "      <th>country</th>\n",
              "      <th>description</th>\n",
              "      <th>designation</th>\n",
              "      <th>points</th>\n",
              "      <th>price</th>\n",
              "      <th>province</th>\n",
              "      <th>region_1</th>\n",
              "      <th>region_2</th>\n",
              "      <th>variety</th>\n",
              "      <th>winery</th>\n",
              "    </tr>\n",
              "  </thead>\n",
              "  <tbody>\n",
              "    <tr>\n",
              "      <th>60597</th>\n",
              "      <td>60597</td>\n",
              "      <td>Italy</td>\n",
              "      <td>A 70% Chardonnay and 30% Pinot Noir sparkling ...</td>\n",
              "      <td>Riserva Contessa Maggi</td>\n",
              "      <td>92</td>\n",
              "      <td>NaN</td>\n",
              "      <td>Lombardy</td>\n",
              "      <td>Franciacorta</td>\n",
              "      <td>NaN</td>\n",
              "      <td>Sparkling Blend</td>\n",
              "      <td>Montenisa</td>\n",
              "    </tr>\n",
              "    <tr>\n",
              "      <th>120402</th>\n",
              "      <td>120402</td>\n",
              "      <td>Australia</td>\n",
              "      <td>Neutral in the extreme, this is an easy pick f...</td>\n",
              "      <td>Billi Billi</td>\n",
              "      <td>83</td>\n",
              "      <td>15.0</td>\n",
              "      <td>Australia Other</td>\n",
              "      <td>South Eastern Australia</td>\n",
              "      <td>NaN</td>\n",
              "      <td>Pinot Grigio</td>\n",
              "      <td>Mount Langi Ghiran</td>\n",
              "    </tr>\n",
              "    <tr>\n",
              "      <th>69552</th>\n",
              "      <td>69552</td>\n",
              "      <td>Australia</td>\n",
              "      <td>Rubbery and rhubarby on the nose, then confect...</td>\n",
              "      <td>NaN</td>\n",
              "      <td>81</td>\n",
              "      <td>10.0</td>\n",
              "      <td>Australia Other</td>\n",
              "      <td>South Eastern Australia</td>\n",
              "      <td>NaN</td>\n",
              "      <td>Merlot</td>\n",
              "      <td>Friday Monkey</td>\n",
              "    </tr>\n",
              "    <tr>\n",
              "      <th>96854</th>\n",
              "      <td>96854</td>\n",
              "      <td>Italy</td>\n",
              "      <td>Not overblown or exaggerated, this tight and c...</td>\n",
              "      <td>NaN</td>\n",
              "      <td>90</td>\n",
              "      <td>50.0</td>\n",
              "      <td>Tuscany</td>\n",
              "      <td>Brunello di Montalcino</td>\n",
              "      <td>NaN</td>\n",
              "      <td>Sangiovese Grosso</td>\n",
              "      <td>Baricci</td>\n",
              "    </tr>\n",
              "    <tr>\n",
              "      <th>28489</th>\n",
              "      <td>28489</td>\n",
              "      <td>US</td>\n",
              "      <td>This Livermore Valley producer travels to Lodi...</td>\n",
              "      <td>NaN</td>\n",
              "      <td>86</td>\n",
              "      <td>26.0</td>\n",
              "      <td>California</td>\n",
              "      <td>Lodi</td>\n",
              "      <td>Central Valley</td>\n",
              "      <td>Zinfandel</td>\n",
              "      <td>Longevity</td>\n",
              "    </tr>\n",
              "  </tbody>\n",
              "</table>\n",
              "</div>"
            ],
            "text/plain": [
              "        Unnamed: 0    country  ...            variety              winery\n",
              "60597        60597      Italy  ...    Sparkling Blend           Montenisa\n",
              "120402      120402  Australia  ...       Pinot Grigio  Mount Langi Ghiran\n",
              "69552        69552  Australia  ...             Merlot       Friday Monkey\n",
              "96854        96854      Italy  ...  Sangiovese Grosso             Baricci\n",
              "28489        28489         US  ...          Zinfandel           Longevity\n",
              "\n",
              "[5 rows x 11 columns]"
            ]
          },
          "metadata": {
            "tags": []
          },
          "execution_count": 6
        }
      ]
    },
    {
      "cell_type": "code",
      "metadata": {
        "id": "qR16AARb9OJy",
        "colab_type": "code",
        "colab": {}
      },
      "source": [
        "# Do some preprocessing to limit the # of wine varities in the dataset\n",
        "data = data[pd.notnull(data['country'])]\n",
        "data = data[pd.notnull(data['price'])]\n",
        "data = data.drop(data.columns[0], axis=1) \n",
        "\n",
        "variety_threshold = 500 # Anything that occurs less than this will be removed.\n",
        "value_counts = data['variety'].value_counts()\n",
        "to_remove = value_counts[value_counts <= variety_threshold].index\n",
        "data.replace(to_remove, np.nan, inplace=True)\n",
        "data = data[pd.notnull(data['variety'])]"
      ],
      "execution_count": 0,
      "outputs": []
    },
    {
      "cell_type": "code",
      "metadata": {
        "colab_type": "code",
        "id": "h_SDal0khA3n",
        "outputId": "e050a638-16de-4d45-e806-cc74ee879c9d",
        "scrolled": true,
        "colab": {
          "base_uri": "https://localhost:8080/",
          "height": 50
        }
      },
      "source": [
        "# Split data into train and test\n",
        "train_size = int(len(data) * .8)\n",
        "print (\"Train size: %d\" % train_size)\n",
        "print (\"Test size: %d\" % (len(data) - train_size))"
      ],
      "execution_count": 0,
      "outputs": [
        {
          "output_type": "stream",
          "text": [
            "Train size: 95646\n",
            "Test size: 23912\n"
          ],
          "name": "stdout"
        }
      ]
    },
    {
      "cell_type": "code",
      "metadata": {
        "colab_type": "code",
        "id": "anD38iilhA3r",
        "colab": {}
      },
      "source": [
        "# Train features\n",
        "description_train = data['description'][:train_size]\n",
        "variety_train = data['variety'][:train_size]\n",
        "\n",
        "# Train labels\n",
        "labels_train = data['price'][:train_size]\n",
        "\n",
        "# Test features\n",
        "description_test = data['description'][train_size:]\n",
        "variety_test = data['variety'][train_size:]\n",
        "\n",
        "# Test labels\n",
        "labels_test = data['price'][train_size:]"
      ],
      "execution_count": 0,
      "outputs": []
    },
    {
      "cell_type": "code",
      "metadata": {
        "colab_type": "code",
        "id": "z4GblctFhA3u",
        "colab": {}
      },
      "source": [
        "# Create a tokenizer to preprocess our text descriptions\n",
        "vocab_size = 12000 # This is a hyperparameter, experiment with different values for your dataset\n",
        "tokenize = keras.preprocessing.text.Tokenizer(num_words=vocab_size, char_level=False)\n",
        "tokenize.fit_on_texts(description_train) # only fit on train"
      ],
      "execution_count": 0,
      "outputs": []
    },
    {
      "cell_type": "code",
      "metadata": {
        "colab_type": "code",
        "id": "YatMLCKXhA3x",
        "colab": {}
      },
      "source": [
        "# Wide feature 1: sparse bag of words (bow) vocab_size vector \n",
        "description_bow_train = tokenize.texts_to_matrix(description_train)\n",
        "description_bow_test = tokenize.texts_to_matrix(description_test)"
      ],
      "execution_count": 0,
      "outputs": []
    },
    {
      "cell_type": "code",
      "metadata": {
        "colab_type": "code",
        "id": "8quTsErLhA3z",
        "colab": {}
      },
      "source": [
        "# Wide feature 2: one-hot vector of variety categories\n",
        "\n",
        "# Use sklearn utility to convert label strings to numbered index\n",
        "encoder = LabelEncoder()\n",
        "encoder.fit(variety_train)\n",
        "variety_train = encoder.transform(variety_train)\n",
        "variety_test = encoder.transform(variety_test)\n",
        "num_classes = np.max(variety_train) + 1\n",
        "\n",
        "# Convert labels to one hot\n",
        "variety_train = keras.utils.to_categorical(variety_train, num_classes)\n",
        "variety_test = keras.utils.to_categorical(variety_test, num_classes)"
      ],
      "execution_count": 0,
      "outputs": []
    },
    {
      "cell_type": "code",
      "metadata": {
        "id": "QP1ukxaJ9OKH",
        "colab_type": "code",
        "colab": {}
      },
      "source": [
        "# Define our wide model with the functional API\n",
        "bow_inputs = layers.Input(shape=(vocab_size,))\n",
        "variety_inputs = layers.Input(shape=(num_classes,))\n",
        "merged_layer = layers.concatenate([bow_inputs, variety_inputs])\n",
        "merged_layer = layers.Dense(256, activation='relu')(merged_layer)\n",
        "predictions = layers.Dense(1)(merged_layer)\n",
        "wide_model = keras.Model(inputs=[bow_inputs, variety_inputs], outputs=predictions)"
      ],
      "execution_count": 0,
      "outputs": []
    },
    {
      "cell_type": "code",
      "metadata": {
        "id": "CtgOK2xz9OKK",
        "colab_type": "code",
        "outputId": "f3c1dbfa-cf9d-4b9b-d770-b324661bc755",
        "colab": {
          "base_uri": "https://localhost:8080/",
          "height": 336
        }
      },
      "source": [
        "wide_model.compile(loss='mse', optimizer='adam', metrics=['accuracy'])\n",
        "print(wide_model.summary())"
      ],
      "execution_count": 0,
      "outputs": [
        {
          "output_type": "stream",
          "text": [
            "__________________________________________________________________________________________________\n",
            "Layer (type)                    Output Shape         Param #     Connected to                     \n",
            "==================================================================================================\n",
            "input_1 (InputLayer)            (None, 12000)        0                                            \n",
            "__________________________________________________________________________________________________\n",
            "input_2 (InputLayer)            (None, 40)           0                                            \n",
            "__________________________________________________________________________________________________\n",
            "concatenate_1 (Concatenate)     (None, 12040)        0           input_1[0][0]                    \n",
            "                                                                 input_2[0][0]                    \n",
            "__________________________________________________________________________________________________\n",
            "dense_1 (Dense)                 (None, 256)          3082496     concatenate_1[0][0]              \n",
            "__________________________________________________________________________________________________\n",
            "dense_2 (Dense)                 (None, 1)            257         dense_1[0][0]                    \n",
            "==================================================================================================\n",
            "Total params: 3,082,753\n",
            "Trainable params: 3,082,753\n",
            "Non-trainable params: 0\n",
            "__________________________________________________________________________________________________\n",
            "None\n"
          ],
          "name": "stdout"
        }
      ]
    },
    {
      "cell_type": "code",
      "metadata": {
        "id": "TGIFgXo29OKM",
        "colab_type": "code",
        "colab": {}
      },
      "source": [
        "# Deep model feature: word embeddings of wine descriptions\n",
        "train_embed = tokenize.texts_to_sequences(description_train)\n",
        "test_embed = tokenize.texts_to_sequences(description_test)\n",
        "\n",
        "max_seq_length = 170\n",
        "train_embed = keras.preprocessing.sequence.pad_sequences(\n",
        "    train_embed, maxlen=max_seq_length, padding=\"post\")\n",
        "test_embed = keras.preprocessing.sequence.pad_sequences(\n",
        "    test_embed, maxlen=max_seq_length, padding=\"post\")"
      ],
      "execution_count": 0,
      "outputs": []
    },
    {
      "cell_type": "code",
      "metadata": {
        "id": "rVcX6qnX9OKP",
        "colab_type": "code",
        "outputId": "825ea0f8-97db-4105-e94b-d3d87683194a",
        "colab": {
          "base_uri": "https://localhost:8080/",
          "height": 286
        }
      },
      "source": [
        "# Define our deep model with the Functional API\n",
        "deep_inputs = layers.Input(shape=(max_seq_length,))\n",
        "embedding = layers.Embedding(vocab_size, 8, input_length=max_seq_length)(deep_inputs)\n",
        "embedding = layers.Flatten()(embedding)\n",
        "embed_out = layers.Dense(1)(embedding)\n",
        "deep_model = keras.Model(inputs=deep_inputs, outputs=embed_out)\n",
        "print(deep_model.summary())"
      ],
      "execution_count": 0,
      "outputs": [
        {
          "output_type": "stream",
          "text": [
            "_________________________________________________________________\n",
            "Layer (type)                 Output Shape              Param #   \n",
            "=================================================================\n",
            "input_3 (InputLayer)         (None, 170)               0         \n",
            "_________________________________________________________________\n",
            "embedding_1 (Embedding)      (None, 170, 8)            96000     \n",
            "_________________________________________________________________\n",
            "flatten_1 (Flatten)          (None, 1360)              0         \n",
            "_________________________________________________________________\n",
            "dense_3 (Dense)              (None, 1)                 1361      \n",
            "=================================================================\n",
            "Total params: 97,361\n",
            "Trainable params: 97,361\n",
            "Non-trainable params: 0\n",
            "_________________________________________________________________\n",
            "None\n"
          ],
          "name": "stdout"
        }
      ]
    },
    {
      "cell_type": "code",
      "metadata": {
        "id": "-RhUbSl-9OKT",
        "colab_type": "code",
        "colab": {}
      },
      "source": [
        "deep_model.compile(loss='mse',\n",
        "                       optimizer='adam',\n",
        "                       metrics=['accuracy'])"
      ],
      "execution_count": 0,
      "outputs": []
    },
    {
      "cell_type": "code",
      "metadata": {
        "id": "QkcfJa0s9OKX",
        "colab_type": "code",
        "outputId": "5dc1ad8d-a456-44cf-9d8f-cc7bd9de79c1",
        "colab": {
          "base_uri": "https://localhost:8080/",
          "height": 554
        }
      },
      "source": [
        "# Combine wide and deep into one model\n",
        "merged_out = layers.concatenate([wide_model.output, deep_model.output])\n",
        "merged_out = layers.Dense(1)(merged_out)\n",
        "combined_model = keras.Model(wide_model.input + [deep_model.input], merged_out)\n",
        "print(combined_model.summary())\n",
        "\n",
        "combined_model.compile(loss='mse',\n",
        "                       optimizer='adam',\n",
        "                       metrics=['accuracy'])"
      ],
      "execution_count": 0,
      "outputs": [
        {
          "output_type": "stream",
          "text": [
            "__________________________________________________________________________________________________\n",
            "Layer (type)                    Output Shape         Param #     Connected to                     \n",
            "==================================================================================================\n",
            "input_1 (InputLayer)            (None, 12000)        0                                            \n",
            "__________________________________________________________________________________________________\n",
            "input_2 (InputLayer)            (None, 40)           0                                            \n",
            "__________________________________________________________________________________________________\n",
            "input_3 (InputLayer)            (None, 170)          0                                            \n",
            "__________________________________________________________________________________________________\n",
            "concatenate_1 (Concatenate)     (None, 12040)        0           input_1[0][0]                    \n",
            "                                                                 input_2[0][0]                    \n",
            "__________________________________________________________________________________________________\n",
            "embedding_1 (Embedding)         (None, 170, 8)       96000       input_3[0][0]                    \n",
            "__________________________________________________________________________________________________\n",
            "dense_1 (Dense)                 (None, 256)          3082496     concatenate_1[0][0]              \n",
            "__________________________________________________________________________________________________\n",
            "flatten_1 (Flatten)             (None, 1360)         0           embedding_1[0][0]                \n",
            "__________________________________________________________________________________________________\n",
            "dense_2 (Dense)                 (None, 1)            257         dense_1[0][0]                    \n",
            "__________________________________________________________________________________________________\n",
            "dense_3 (Dense)                 (None, 1)            1361        flatten_1[0][0]                  \n",
            "__________________________________________________________________________________________________\n",
            "concatenate_2 (Concatenate)     (None, 2)            0           dense_2[0][0]                    \n",
            "                                                                 dense_3[0][0]                    \n",
            "__________________________________________________________________________________________________\n",
            "dense_4 (Dense)                 (None, 1)            3           concatenate_2[0][0]              \n",
            "==================================================================================================\n",
            "Total params: 3,180,117\n",
            "Trainable params: 3,180,117\n",
            "Non-trainable params: 0\n",
            "__________________________________________________________________________________________________\n",
            "None\n"
          ],
          "name": "stdout"
        }
      ]
    },
    {
      "cell_type": "code",
      "metadata": {
        "colab_type": "code",
        "id": "gtP-hDRZhA31",
        "outputId": "49a7089f-1341-49fc-885d-1cfe59a8ccf4",
        "colab": {
          "base_uri": "https://localhost:8080/",
          "height": 370
        }
      },
      "source": [
        "# Run training\n",
        "combined_model.fit([description_bow_train, variety_train] + [train_embed], labels_train, epochs=10, batch_size=128)"
      ],
      "execution_count": 0,
      "outputs": [
        {
          "output_type": "stream",
          "text": [
            "Epoch 1/10\n",
            "95646/95646 [==============================] - 86s 900us/step - loss: 1147.3770 - acc: 0.0272\n",
            "Epoch 2/10\n",
            "95646/95646 [==============================] - 86s 902us/step - loss: 907.0942 - acc: 0.0365\n",
            "Epoch 3/10\n",
            "95646/95646 [==============================] - 87s 915us/step - loss: 763.9120 - acc: 0.0411\n",
            "Epoch 4/10\n",
            "95646/95646 [==============================] - 88s 923us/step - loss: 627.5701 - acc: 0.0456\n",
            "Epoch 5/10\n",
            "95646/95646 [==============================] - 88s 919us/step - loss: 500.0220 - acc: 0.0513\n",
            "Epoch 6/10\n",
            "95646/95646 [==============================] - 87s 910us/step - loss: 386.0352 - acc: 0.0586\n",
            "Epoch 7/10\n",
            "95646/95646 [==============================] - 86s 903us/step - loss: 290.6777 - acc: 0.0675\n",
            "Epoch 8/10\n",
            "95646/95646 [==============================] - 86s 900us/step - loss: 217.9323 - acc: 0.0780\n",
            "Epoch 9/10\n",
            "95646/95646 [==============================] - 86s 900us/step - loss: 166.0275 - acc: 0.0894\n",
            "Epoch 10/10\n",
            "95646/95646 [==============================] - 86s 898us/step - loss: 126.1773 - acc: 0.1033\n"
          ],
          "name": "stdout"
        },
        {
          "output_type": "execute_result",
          "data": {
            "text/plain": [
              "<tensorflow.python.keras._impl.keras.callbacks.History at 0x7f8972e43b38>"
            ]
          },
          "metadata": {
            "tags": []
          },
          "execution_count": 19
        }
      ]
    },
    {
      "cell_type": "code",
      "metadata": {
        "id": "a5uS67i39OKd",
        "colab_type": "code",
        "outputId": "a3e2a5da-9099-4240-eab3-a5162f7c4d5b",
        "colab": {
          "base_uri": "https://localhost:8080/",
          "height": 50
        }
      },
      "source": [
        "combined_model.evaluate([description_bow_test, variety_test] + [test_embed], labels_test, batch_size=128)"
      ],
      "execution_count": 0,
      "outputs": [
        {
          "output_type": "stream",
          "text": [
            "23912/23912 [==============================] - 6s 271us/step\n"
          ],
          "name": "stdout"
        },
        {
          "output_type": "execute_result",
          "data": {
            "text/plain": [
              "[645.4492538314314, 0.07351957177060948]"
            ]
          },
          "metadata": {
            "tags": []
          },
          "execution_count": 20
        }
      ]
    },
    {
      "cell_type": "code",
      "metadata": {
        "colab_type": "code",
        "id": "f000lYoxhA4F",
        "colab": {}
      },
      "source": [
        "# Generate predictions\n",
        "predictions = combined_model.predict([description_bow_test, variety_test] + [test_embed])"
      ],
      "execution_count": 0,
      "outputs": []
    },
    {
      "cell_type": "code",
      "metadata": {
        "id": "Iq1f-_eq9OKi",
        "colab_type": "code",
        "outputId": "37cdd638-869a-4731-a602-814381e5796d",
        "colab": {}
      },
      "source": [
        "# Compare predictions with actual values for the first few items in our test dataset\n",
        "num_predictions = 40\n",
        "diff = 0\n",
        "\n",
        "for i in range(num_predictions):\n",
        "    val = predictions[i]\n",
        "    print(description_test.iloc[i])\n",
        "    print('Predicted: ', val[0], 'Actual: ', labels_test.iloc[i], '\\n')\n",
        "    diff += abs(val[0] - labels_test.iloc[i])"
      ],
      "execution_count": 0,
      "outputs": [
        {
          "output_type": "stream",
          "text": [
            "Not a whole lot to say about the soft, flat nose. It's o.k., but that's really about it. The palate, meanwhile, turns sweet, nearly to the point of candied. And the finish is downright sugary. Decent weight and feel help it along.\n",
            "Predicted:  16.776217 Actual:  14.0 \n",
            "\n",
            "This 70-30 blend of Chardonnay and Trebbiano is driven by a strong mineral vein that imparts dusty notes of slate, vitamin and granite over fuller aromas of exotic fruit and peach. The wine is simple and tart in the mouth with a creamy, soft feel overall.\n",
            "Predicted:  19.51367 Actual:  18.0 \n",
            "\n",
            "Light, fresh aromas of tomato and plum are gritty. This feels round for the most part, with rubbery tannins. Medicinal, slightly minty plum and berry flavors end with acceptable rawness and a latex note.\n",
            "Predicted:  21.455168 Actual:  10.0 \n",
            "\n",
            "A densely fruity wine, with berry and plum fruits, pushed by some firm tannins. It is the ripe fruit, brimming over the glass, that makes this wine so delicious and approachable now.\n",
            "Predicted:  25.588463 Actual:  17.0 \n",
            "\n",
            "Wild, briary, brambly and semi-sweet from this hot vintage, this is a Zin made for easy drinking with roasts and cheeses. It's a big, hot wine, with some raisiny flavors mixed in with the cherries and spices.\n",
            "Predicted:  30.262243 Actual:  38.0 \n",
            "\n",
            "The nose of this Chard is so lively and welcoming with accents of lilac, jasmine, white peach slices and clementine. Matured in barrel for 10 months, the wine's palate offers more intense, mature flavors of peaches and cream, ginger and supporting tropical acidity. Well structured with a defined and evolving finish, it takes you from citrus to fresh peach to vanilla wooded spice.\n",
            "Predicted:  13.833609 Actual:  15.0 \n",
            "\n",
            "Full bodied with a velvety heft on the palate, this Reserve Merlot from Hudson-Chatham offers a striking balance of intensity and elegance. From the nose to the palate, there's a bounty of rich dark fruit, bramble and smoke layered with silky oak and firm tannins.\n",
            "Predicted:  18.991003 Actual:  22.0 \n",
            "\n",
            "Cranberry, Bing cherry and red plum flavors dominate the fruit profile, enlivened by a bright spice note. The tannins turn quite chalky and drying, which lessens the pleasure of the finish.\n",
            "Predicted:  11.892209 Actual:  19.0 \n",
            "\n",
            "A wine that is all about crispness, structure and bright fruits. The creamy texture from lees aging gives a rounder dimension, but the main thrust here is minerality coupled with delicious acidity.\n",
            "Predicted:  28.631481 Actual:  20.0 \n",
            "\n",
            "At its best Rubicon stuns with power and richness. In lesser vintages (which are usually hotter ones) the wine, which is largely Cabernet Sauvignon, can be raisiny. While 2004 was a warm year, diligent viticulture paid off, resulting in an opulent wine with the purest expression of crushed cherries and blackberries, and oak-inspired hints of nougat and caramel. Fairly aggressive in tannins now, it should begin to open by 2008 and drink well for a decade.\n",
            "Predicted:  262.89868 Actual:  125.0 \n",
            "\n",
            "A bit unripe, with a slight vegetal intrusion into the blackberries and cherries. Teeter-totters just on the edge of ripeness, but falls short. Otherwise, the tannins are pretty, and the oak is deftly applied.\n",
            "Predicted:  48.683483 Actual:  50.0 \n",
            "\n",
            "A good everyday wine. It's dry, full-bodied and has enough berry-cherry flavors to get by, wrapped into a smooth texture.\n",
            "Predicted:  9.694958 Actual:  10.0 \n",
            "\n",
            "Combines dusky peach and passion fruit aromas and flavors in a wine that's a bit softer and sweeter-tasting than many Marlborough Sauvignon Blancs, yet still carries a refreshing touch of acid on the finish. Imported by New Zealand Wine Imports.\n",
            "Predicted:  17.764606 Actual:  17.0 \n",
            "\n",
            "A light-pink color is backed by a simple nose that's nondescript but fresh and clean. A slightly foamy but firm palate isn't all that deep or rich, while mild grapefruit and blood orange flavors finish steady.\n",
            "Predicted:  12.843844 Actual:  12.0 \n",
            "\n",
            "A nice, clean, attractive version of affordable Carmenère? Yep, that's what Odfjell delivers pretty much every year with its Armador bottling. Aromas are floral, minerally and deep, and so is the palate, which is pure, spicy and loaded with blackberry fruit. Smooth on the finish, too. One of Chile's best value-priced Carmenères.\n",
            "Predicted:  15.080006 Actual:  12.0 \n",
            "\n",
            "Plum, red berry, cinnamon and mint aromas give this savory-style red from Lebanon a serious start. Soft and elegant on the palate but with a touch of spice and lively acid, the wine is balanced and unfolding, and will pair well with dishes that offer complex spice. An interesting red with exotic appeal.\n",
            "Predicted:  30.442371 Actual:  50.0 \n",
            "\n",
            "Powerful vanilla scents rise from the glass, but the fruit, even in this difficult vintage, comes out immediately. It's tart and sharp, with a strong herbal component, and the wine snaps into focus quickly with fruit, acid, tannin, herb and vanilla in equal proportion. Firm and tight, still quite young, this wine needs decanting and/or further bottle age to show its best.\n",
            "Predicted:  46.233624 Actual:  45.0 \n",
            "\n",
            "The bouquet delivers touches of graphite and rubber in front of traditional dried cherry and raspberry. Nice in the mouth, with softly fading fruit riding a wave of persistent acids and tannins. Snappy, old-school and succulent. Drink now through 2010.\n",
            "Predicted:  24.337423 Actual:  26.0 \n",
            "\n",
            "Oak powers the nose on this entry-level bottling from the Ballard Canyon-based winery, with peach custard, cinnamon and other brown spices. It's wide and ripe on the palate at first, with cooked Meyer lemons, nectarine and pineapple, but also boasts a line of brisker acidity trending toward lime.\n",
            "Predicted:  25.915466 Actual:  24.0 \n",
            "\n",
            "Shows plenty of weight on the palate, but also an overall lack of intensity to its slightly vegetal—green pea—flavors. Still, there's enough passion fruit and grapefruit to provide a sense of balance and a crisp, clean finish.\n",
            "Predicted:  16.476027 Actual:  11.0 \n",
            "\n",
            "Fresh, vivid fruit flavors pop from this light-colored, well-balanced, mouthwatering wine. Ripe pear, crisp apple and a touch of baking spices mingle on the palate and linger on the finish.\n",
            "Predicted:  16.757448 Actual:  16.0 \n",
            "\n",
            "Dark mineral, toasted French oak and black fruit carry the nose. This is a sturdy, nicely made high-end Rioja, but due to the heat of the year its range of flavors is narrow as it settles on baked plum and molasses. Medium long on the finish, with a lasting taste of chocolate.\n",
            "Predicted:  81.83065 Actual:  100.0 \n",
            "\n",
            "This medium-bodied dry Riesling is nicely balanced between apple and lime, with hints of petrol and spice to bring home its Rieslingness. Drink now for the vibrance and freshness of the fruit, but it should age well for at least a few years.\n",
            "Predicted:  15.825063 Actual:  18.0 \n",
            "\n",
            "Pretty good, but a little on the rustic side, with baked blackberry, cherry and currant flavors wrapped into some rugged, edgy tannins. Could just be going through an awkward phase, but its future is hard to predict.\n",
            "Predicted:  26.417683 Actual:  40.0 \n",
            "\n",
            "Quite woody for this weight class, with balsam shavings and berry aromas that are distant. Chewy, lactic and creamy across the tongue, with a flavor profile that brings chocolate and berry syrup flavors. Finishes with a final wave of oaky spice and bitterness; good but needs more fruit.\n",
            "Predicted:  13.144117 Actual:  15.0 \n",
            "\n",
            "From an organic, dry farmed vineyard, this wine is as feral as the forest—a study in wild boar, wildflowers and dried herbs. Bright acidity buoys that meaty quality in the form of tart rhubarb and strawberry tea flavors. Floral on the nose and palate, it's spicy too, with bold seasonings of clove and pepper.\n",
            "Predicted:  67.539925 Actual:  95.0 \n",
            "\n",
            "This is a very enjoyable Chardonnay from Friuli in northeastern Italy with vibrant luminosity and fresh tones of stone fruit, yellow rose and honey. The mouthfeel is naturally creamy but the wine ends on a bright, crisp note.\n",
            "Predicted:  17.144892 Actual:  16.0 \n",
            "\n",
            "A powerful, fat, still young wine, full of yeast flavors, green apples, plums and with a fine, tight structure—this is a food wine that could certainly age, maybe over 3 to 4 years.\n",
            "Predicted:  25.042484 Actual:  23.0 \n",
            "\n",
            "Past its prime, with herbal, leafy notes dominating the nectarine and melon fruit. Soft and even a bit sweet, with a chalky finish.\n",
            "Predicted:  16.498108 Actual:  15.0 \n",
            "\n",
            "Soft, creamy and buttery, this will surely please those who like a banana cream pie style of Chardonnay. There's peaches in there too, and papaya—a lot of ripe fruit, nicely matched to the oak flavors. Drink now.\n",
            "Predicted:  26.30731 Actual:  24.0 \n",
            "\n",
            "Putting your nose into a glass of Oddero Barolo Villero is like sniffing a handful of Langhe soil. This wine speaks highly of its territory with aromas of smoke, earth, forest berry, white truffle, hazelnut, cola, root beer, humus and dried apple skins. In the mouth, the tannins are impressively polished and fine.\n",
            "Predicted:  60.76769 Actual:  65.0 \n",
            "\n",
            "A reasonably good buy in vintage Port, Silval is something of a second label for Quinta do Noval. It's less concentrated and suppler in the mouth than its sister wine, but still boasts compelling floral aromas allied to prune, berry and chocolate flavors. Worth trying a bottle before 2010.\n",
            "Predicted:  44.748398 Actual:  37.0 \n",
            "\n",
            "Rustic tomato and cherry aromas make for a scratchy opening. This is wiry and grating in feel, with sour plum and red-currant flavors. A fresh but scratchy and herbal tasting finish isn't exactly friendly.\n",
            "Predicted:  10.840133 Actual:  13.0 \n",
            "\n",
            "Fragrant and spicy, this opens with green pepper notes and boatloads of prickly/brambly raspberry/strawberry fruit. From a cool vintage, the blend includes 15% Syrah. It's nicely handled, with great penetration and a dancer's precision.\n",
            "Predicted:  27.572311 Actual:  25.0 \n",
            "\n",
            "This is a cheerful, agreeable wine, with loose-knit fruit flavors of strawberry and sweet cranberry, interwoven with generous streaks of butter and toast. Drink up.\n",
            "Predicted:  20.560844 Actual:  15.0 \n",
            "\n",
            "This terroir-driven Pinot, from the Oregon side of the Columbia River, shows a dramatically different profile than the Willamette Valley Pinots commonly associated with the state. Kudos to winemaker Peter Rosback for finding great Pinot all over Oregon. This unique vineyard shows classic varietal fruit laced with mineral, kissed with toast, and finished with delicious mocha flavors from new oak barrels. The tart, tangy spine keeps it balanced and extends the fruit flavors well into a long, crisp finish.\n",
            "Predicted:  38.203552 Actual:  42.0 \n",
            "\n",
            "Here's a modern, round and velvety Barolo (from Monforte d'Alba) that will appeal to those who love a thick and juicy style of wine. The aromas include lavender, allspice, cinnamon, white chocolate and vanilla. Tart berry flavors backed by crisp acidity and firm tannins give the mouthfeel determination and grit.\n",
            "Predicted:  41.028854 Actual:  49.0 \n",
            "\n",
            "Jammy and simple, with ripe cherry, blackberry and pepper flavors. Nothing terribly complex, but an easy everyday Zin at a decent price.\n",
            "Predicted:  9.812495 Actual:  11.0 \n",
            "\n",
            "Made in a sweeter, more candied style, with lemon, pineapple and vanilla flavors, although crisp acidity provides much needed and drying balance. But it's still a fairly simple sipper.\n",
            "Predicted:  19.652079 Actual:  21.0 \n",
            "\n",
            "It's obvious from the alcohol that the Merlot here was very ripe. But, happily, it doesn't taste that way. The balance of rich raisin and red plum flavors are well balanced by acidity. There is some smokiness from wood, the ripeness finishing freshly with a black cherry taste.\n",
            "Predicted:  41.17104 Actual:  26.0 \n",
            "\n"
          ],
          "name": "stdout"
        }
      ]
    },
    {
      "cell_type": "code",
      "metadata": {
        "id": "8zciSUtP9OKk",
        "colab_type": "code",
        "outputId": "eca496e6-5721-44f1-e15c-8aa09d19ec64",
        "colab": {}
      },
      "source": [
        "# Compare the average difference between actual price and the model's predicted price\n",
        "print('Average prediction difference: ', diff / num_predictions)"
      ],
      "execution_count": 0,
      "outputs": [
        {
          "output_type": "stream",
          "text": [
            "Average prediction difference:  8.719513726234435\n"
          ],
          "name": "stdout"
        }
      ]
    }
  ]
}